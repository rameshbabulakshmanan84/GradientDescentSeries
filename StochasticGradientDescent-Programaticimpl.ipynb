{
 "cells": [
  {
   "cell_type": "code",
   "execution_count": null,
   "metadata": {},
   "outputs": [],
   "source": [
    "#We will detail about the stochastic gradiet descent\n"
   ]
  },
  {
   "cell_type": "code",
   "execution_count": 16,
   "metadata": {},
   "outputs": [],
   "source": [
    "#Import libraries\n",
    "import numpy as np\n",
    "import pandas as pd\n",
    "import matplotlib.pyplot as plt"
   ]
  },
  {
   "cell_type": "code",
   "execution_count": 17,
   "metadata": {},
   "outputs": [],
   "source": [
    "#create a random data set\n",
    "#Create a random array of size(10,1)\n",
    "#rand->generates uniform distribution\n",
    "X=2*np.random.rand(10,1)\n",
    "#Create Y based on X [randn->generate random normal distribution]\n",
    "Y=4+3*X+np.random.randn(10,1)"
   ]
  },
  {
   "cell_type": "code",
   "execution_count": 18,
   "metadata": {},
   "outputs": [
    {
     "data": {
      "text/plain": [
       "array([[0.74908024],\n",
       "       [1.90142861],\n",
       "       [1.46398788],\n",
       "       [1.19731697],\n",
       "       [0.31203728],\n",
       "       [0.31198904],\n",
       "       [0.11616722],\n",
       "       [1.73235229],\n",
       "       [1.20223002],\n",
       "       [1.41614516]])"
      ]
     },
     "execution_count": 18,
     "metadata": {},
     "output_type": "execute_result"
    }
   ],
   "source": [
    "#Print X\n",
    "X"
   ]
  },
  {
   "cell_type": "code",
   "execution_count": 19,
   "metadata": {},
   "outputs": [
    {
     "data": {
      "text/plain": [
       "array([[ 5.77776633],\n",
       "       [10.24684588],\n",
       "       [ 7.92854596],\n",
       "       [ 7.12622115],\n",
       "       [ 5.17807411],\n",
       "       [ 3.02268688],\n",
       "       [ 2.62358384],\n",
       "       [ 8.63476935],\n",
       "       [ 6.59385895],\n",
       "       [ 8.5626828 ]])"
      ]
     },
     "execution_count": 19,
     "metadata": {},
     "output_type": "execute_result"
    }
   ],
   "source": [
    "#print Y\n",
    "Y"
   ]
  },
  {
   "cell_type": "code",
   "execution_count": 20,
   "metadata": {},
   "outputs": [
    {
     "data": {
      "text/plain": [
       "array([[1.        , 0.74908024],\n",
       "       [1.        , 1.90142861],\n",
       "       [1.        , 1.46398788],\n",
       "       [1.        , 1.19731697],\n",
       "       [1.        , 0.31203728],\n",
       "       [1.        , 0.31198904],\n",
       "       [1.        , 0.11616722],\n",
       "       [1.        , 1.73235229],\n",
       "       [1.        , 1.20223002],\n",
       "       [1.        , 1.41614516]])"
      ]
     },
     "execution_count": 20,
     "metadata": {},
     "output_type": "execute_result"
    }
   ],
   "source": [
    "#conver thr X to 2D array with 1 as frst number ( input =1 for bias input)\n",
    "#use C_ column concatenate\n",
    "X_b=np.c_[np.ones(len(X)),X]\n",
    "#print he concatenatd array\n",
    "X_b"
   ]
  },
  {
   "cell_type": "code",
   "execution_count": 21,
   "metadata": {},
   "outputs": [],
   "source": [
    "#compute stochastic gradient descent\n",
    "#get the number of samples by usng lenth function\n",
    "m=len(X_b)\n",
    "#set stable outout by setting seed value\n",
    "np.random.seed(42)"
   ]
  },
  {
   "cell_type": "code",
   "execution_count": 25,
   "metadata": {},
   "outputs": [
    {
     "data": {
      "image/png": "[encoded data removed]",
      "text/plain": [
       "<matplotlib.figure.Figure at 0x1d3f6e03ef0>"
      ]
     },
     "metadata": {
      "needs_background": "light"
     },
     "output_type": "display_data"
    }
   ],
   "source": [
    "#Epoch is the number of times complete data set(input,output) exposed for trainings\n",
    "n_epochs=50\n",
    "eta=0.01\n",
    "\n",
    "#Randomly initiate the weights ( weight nd bias) of size (2,1)\n",
    "theta=np.random.randn(2,1)\n",
    "\n",
    "#iterate for 50 times\n",
    "for epoch in range(n_epochs):\n",
    "    #loop for total number of samples ( m=>len(X_b))\n",
    "    for i in range(m):\n",
    "        if epoch==0 and i < 20:\n",
    "            #calculate the predicted value\n",
    "            y_predict = X_b.dot(theta)\n",
    "            #set the style - for first line red and rest of lines its blue\n",
    "            style = \"b-\" if i>0 else \"r--\"\n",
    "            plt.plot(X_b,y_predict,style)\n",
    "        #if the above if condition doesnt match,use below\n",
    "        #returns random number between 0 and m(10)\n",
    "        random_index=np.random.randint(m)\n",
    "        #use that index to return a number in array X_b\n",
    "        xi=X_b[random_index:random_index+1]\n",
    "        #retrieve the correspnding Y array element\n",
    "        yi=Y[random_index:random_index+1]\n",
    "        #Calculate the gradient by takng only one element\n",
    "        #note that error is calculated for only one element vs batch grdient where error is caiclauted for entire data set\n",
    "        gradients=2*xi.T.dot((xi.dot(theta)-yi))\n",
    "        #Update the weights\n",
    "        theta=theta-eta*gradients\n",
    "#Plot the curves\n",
    "#plot the original curve\n",
    "plt.plot(X,Y,\"b.\")\n",
    "plt.xlabel(\"$X$\",fontsize=16)\n",
    "plt.ylabel(\"$Y$\",fontsize=16)\n",
    "plt.title(\"Stochastic gradient descent\")\n",
    "#set the Xlim,ylim\n",
    "plt.xlim(0,2)\n",
    "plt.ylim(0,15)\n",
    "#save the figure\n",
    "plt.savefig(\"StochasticGradientDescent.png\")\n",
    "#show the figure\n",
    "plt.show()\n",
    "            \n",
    "        \n",
    "        "
   ]
  },
  {
   "cell_type": "code",
   "execution_count": 26,
   "metadata": {},
   "outputs": [],
   "source": [
    "#As you can observ that the best line after 50 epochs has not reached the best fitting using leanring parameter eta=0.01\n",
    "#The below curve plots the cure with learning rate of 0.1"
   ]
  },
  {
   "cell_type": "code",
   "execution_count": 28,
   "metadata": {},
   "outputs": [
    {
     "data": {
      "image/png": "[encoded data removed]",
      "text/plain": [
       "<matplotlib.figure.Figure at 0x1d3f6ebaf98>"
      ]
     },
     "metadata": {
      "needs_background": "light"
     },
     "output_type": "display_data"
    }
   ],
   "source": [
    "#Epoch is the number of times complete data set(input,output) exposed for trainings\n",
    "n_epochs=50\n",
    "eta=0.1\n",
    "\n",
    "#Randomly initiate the weights ( weight nd bias) of size (2,1)\n",
    "theta=np.random.randn(2,1)\n",
    "\n",
    "#iterate for 50 times\n",
    "for epoch in range(n_epochs):\n",
    "    #loop for total number of samples ( m=>len(X_b))\n",
    "    for i in range(m):\n",
    "        if epoch==0 and i < 20:\n",
    "            #calculate the predicted value\n",
    "            y_predict = X_b.dot(theta)\n",
    "            #set the style - for first line red and rest of lines its blue\n",
    "            style = \"b-\" if i>0 else \"r--\"\n",
    "            plt.plot(X_b,y_predict,style)\n",
    "        #if the above if condition doesnt match,use below\n",
    "        #returns random number between 0 and m(10)\n",
    "        random_index=np.random.randint(m)\n",
    "        #use that index to return a number in array X_b\n",
    "        xi=X_b[random_index:random_index+1]\n",
    "        #retrieve the correspnding Y array element\n",
    "        yi=Y[random_index:random_index+1]\n",
    "        #Calculate the gradient by takng only one element\n",
    "        #note that error is calculated for only one element vs batch grdient where error is caiclauted for entire data set\n",
    "        gradients=2*xi.T.dot((xi.dot(theta)-yi))\n",
    "        #Update the weights\n",
    "        theta=theta-eta*gradients\n",
    "#Plot the curves\n",
    "#plot the original curve\n",
    "plt.plot(X,Y,\"b.\")\n",
    "plt.xlabel(\"$X$\",fontsize=16)\n",
    "plt.ylabel(\"$Y$\",fontsize=16)\n",
    "plt.title(\"Stochastic gradient descent with learning rate 0.1\")\n",
    "#set the Xlim,ylim\n",
    "plt.xlim(0,2)\n",
    "plt.ylim(0,15)\n",
    "#save the figure\n",
    "plt.savefig(\"StochasticGradientDescenteta0.1.png\")\n",
    "#show the figure\n",
    "plt.show()\n",
    "            "
   ]
  },
  {
   "cell_type": "code",
   "execution_count": 29,
   "metadata": {},
   "outputs": [
    {
     "name": "stdout",
     "output_type": "stream",
     "text": [
      "[[2.39004961]\n",
      " [3.58900529]]\n"
     ]
    }
   ],
   "source": [
    "#As you can observ that the best line after 50 epochs has almost  reached the best fitting using leanring parameter eta=0.1\n",
    "#print the theta\n",
    "print(theta)"
   ]
  },
  {
   "cell_type": "code",
   "execution_count": null,
   "metadata": {},
   "outputs": [],
   "source": []
  }
 ],
 "metadata": {
  "kernelspec": {
   "display_name": "Python 3",
   "language": "python",
   "name": "python3"
  },
  "language_info": {
   "codemirror_mode": {
    "name": "ipython",
    "version": 3
   },
   "file_extension": ".py",
   "mimetype": "text/x-python",
   "name": "python",
   "nbconvert_exporter": "python",
   "pygments_lexer": "ipython3",
   "version": "3.6.4"
  }
 },
 "nbformat": 4,
 "nbformat_minor": 2
}
